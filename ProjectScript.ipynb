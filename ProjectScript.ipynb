{
  "cells": [
    {
      "cell_type": "markdown",
      "metadata": {
        "id": "view-in-github",
        "colab_type": "text"
      },
      "source": [
        "<a href=\"https://colab.research.google.com/github/samhithasamg/Data-Analysis-and-Visualisation-on-bank-customer-data/blob/main/ProjectScript.ipynb\" target=\"_parent\"><img src=\"https://colab.research.google.com/assets/colab-badge.svg\" alt=\"Open In Colab\"/></a>"
      ]
    },
    {
      "cell_type": "code",
      "execution_count": null,
      "metadata": {
        "id": "LJSbjTbTlpcP"
      },
      "outputs": [],
      "source": [
        "import pandas as pd\n",
        "import numpy as np\n",
        "import gmaps\n",
        "from geopy.geocoders import Nominatim\n",
        "import random"
      ]
    },
    {
      "cell_type": "markdown",
      "metadata": {
        "id": "0bq5VmEKlpcR"
      },
      "source": [
        "Random Sampling of data"
      ]
    },
    {
      "cell_type": "code",
      "execution_count": null,
      "metadata": {
        "id": "EKodCzjIlpcS"
      },
      "outputs": [],
      "source": [
        "n = sum(1 for line in open('yes_bank.csv')) - 1\n",
        "s = 100000 #desired sample size\n",
        "skip = sorted(random.sample(range(1,n+1),n-s))\n",
        "df= pd.read_csv('yes_bank.csv',skiprows=skip,delimiter='|')"
      ]
    },
    {
      "cell_type": "markdown",
      "metadata": {
        "id": "SKUdbYkQlpcT"
      },
      "source": [
        "Data Cleaning"
      ]
    },
    {
      "cell_type": "code",
      "execution_count": null,
      "metadata": {
        "id": "MqcdBKrWlpcT"
      },
      "outputs": [],
      "source": [
        "df=df[df['current_address3']!='add3']\n",
        "df=df[df['current_city']!='addcity']\n",
        "df=df[df['current_state']!='addstate']\n",
        "df=df[df['current_pin_code']!='addpin']\n",
        "df=df[df['current_address3']!='DUMMY']\n",
        "df=df[df['current_city']!='DUMMY']\n",
        "df=df[df['current_state']!='DUMMY']\n",
        "#We have neglected other junk values as the frequency of very small."
      ]
    },
    {
      "cell_type": "code",
      "execution_count": null,
      "metadata": {
        "id": "eRbfYLgXlpcT"
      },
      "outputs": [],
      "source": [
        "df.reset_index(inplace=True)"
      ]
    },
    {
      "cell_type": "markdown",
      "metadata": {
        "id": "Ow_N_qR0lpcT"
      },
      "source": [
        "Data augmentation"
      ]
    },
    {
      "cell_type": "code",
      "execution_count": null,
      "metadata": {
        "id": "z3SyrLiylpcT"
      },
      "outputs": [],
      "source": [
        "df2.fillna('',inplace=True) #Required for concatenating the 3 address fields into 1 field"
      ]
    },
    {
      "cell_type": "code",
      "execution_count": null,
      "metadata": {
        "id": "ODS89Ae3lpcU"
      },
      "outputs": [],
      "source": [
        "df['current']=df['current_address3']+' '+df['current_city']+' '+df['current_state'] #complete current address is added as a new column"
      ]
    },
    {
      "cell_type": "code",
      "execution_count": null,
      "metadata": {
        "id": "-WSAXR0mlpcU"
      },
      "outputs": [],
      "source": [
        "df['permanent']=df['permanent_address3']+' '+df['permanent_city']+' '+df['permanent_state'] #complete permanent address is added as a new column"
      ]
    },
    {
      "cell_type": "code",
      "execution_count": null,
      "metadata": {
        "id": "k-3BE0HnlpcU"
      },
      "outputs": [],
      "source": [
        "#new columns augmented for storing latitude and longitude of current and permanent address\n",
        "df['latitude_c']=np.nan\n",
        "df['longitude_c']=np.nan\n",
        "df['latitude_p']=np.nan\n",
        "df['longitude_p']=np.nan"
      ]
    },
    {
      "cell_type": "markdown",
      "metadata": {
        "id": "Ha6kedNUlpcU"
      },
      "source": [
        "Generating latitude-longitude"
      ]
    },
    {
      "cell_type": "code",
      "execution_count": null,
      "metadata": {
        "scrolled": true,
        "id": "pqBLb_DalpcV"
      },
      "outputs": [],
      "source": [
        "geolocator = Nominatim(user_agent=\"yes bank data\",timeout=None)\n",
        "#For each reord, we first find latitude-longitude using the pincode\n",
        "#If pincode is not available, we go for the complete address\n",
        "#After both steps, if geolocater is not able to find latitude-longitude, we drop the row.\n",
        "for i in range(len(df)):\n",
        "    if df.at[i,'current_pin_code']!='':\n",
        "        location=geolocator.geocode(df.at[i,'current_pin_code'])\n",
        "        if location!=None:\n",
        "            df.at[i,'latitude_c']=location.latitude\n",
        "            df.at[i,'longitude_c']=location.longitude\n",
        "    elif df.at[i,'current']!='' :\n",
        "        location=geolocator.geocode(df.at[i,'current'])\n",
        "        if location!=None:\n",
        "            df.at[i,'latitude_c']=location.latitude\n",
        "            df.at[i,'longitude_c']=location.longitude\n",
        "    if df.at[i,'permanent_pin_code']!='':\n",
        "        location=geolocator.geocode(df.at[i,'permanent_pin_code'])\n",
        "        if location!=None:\n",
        "            df.at[i,'latitude_p']=location.latitude\n",
        "            df.at[i,'longitude_p']=location.longitude\n",
        "    elif df.at[i,'permanent']!='':\n",
        "        location=geolocator.geocode(df.at[i,'permanent'])\n",
        "        if location!=None:\n",
        "            df.at[i,'latitude_p']=location.latitude\n",
        "            df.at[i,'longitude_p']=location.longitude\n",
        "    #print(i)"
      ]
    },
    {
      "cell_type": "code",
      "execution_count": null,
      "metadata": {
        "id": "DYazirM8lpcV"
      },
      "outputs": [],
      "source": [
        "df.to_csv('yes_bank_address.csv',index=None) #Storing it into csv for future purpose"
      ]
    },
    {
      "cell_type": "markdown",
      "metadata": {
        "id": "YXupxkWilpcV"
      },
      "source": [
        "Generating heatmap using latitude-longitudes"
      ]
    },
    {
      "cell_type": "code",
      "execution_count": null,
      "metadata": {
        "id": "iuYRaBzZlpcV"
      },
      "outputs": [],
      "source": [
        "gmaps.configure(api_key='key') #Specify the googlemap api key"
      ]
    },
    {
      "cell_type": "code",
      "execution_count": null,
      "metadata": {
        "id": "hP2YuAqTlpcV"
      },
      "outputs": [],
      "source": [
        "#For current addresses\n",
        "locations = df[['latitude_c', 'longitude_c']].dropna()\n",
        "fig = gmaps.figure() \n",
        "heatmap_layer = gmaps.heatmap_layer(locations)\n",
        "\n",
        "fig.add_layer(gmaps.heatmap_layer(locations)) \n",
        "fig "
      ]
    },
    {
      "cell_type": "code",
      "execution_count": null,
      "metadata": {
        "id": "9iYIVXxQlpcV"
      },
      "outputs": [],
      "source": [
        "#For permanent addresses\n",
        "locations = df[['latitude_p', 'longitude_p']].dropna()\n",
        "fig = gmaps.figure() \n",
        "heatmap_layer = gmaps.heatmap_layer(locations)\n",
        "\n",
        "fig.add_layer(gmaps.heatmap_layer(locations)) \n",
        "fig "
      ]
    },
    {
      "cell_type": "markdown",
      "metadata": {
        "id": "qU7NAPwDlpcW"
      },
      "source": [
        "Classification of households and business customers"
      ]
    },
    {
      "cell_type": "code",
      "execution_count": null,
      "metadata": {
        "id": "D2j1DE6HlpcW"
      },
      "outputs": [],
      "source": [
        "#Since we are identifying the type of customer by current address value, we need to clean the data according to this column.\n",
        "df=df[df['current_address3']!=' ']\n",
        "df=df[df['current_address3']!=np.nan]\n",
        "df=df[df['current_address3'].str.len()>=2]"
      ]
    },
    {
      "cell_type": "code",
      "execution_count": null,
      "metadata": {
        "id": "ILLr7WoulpcW"
      },
      "outputs": [],
      "source": [
        "#Remove ambiguous addresses which can not be classified as either household or business customer\n",
        "df=df[df['current'].str.startswith(('NEAR','NR','BESIDE','NR.','B/H','BEHIND','OPP','OPP.','OPPOSITE','BY','NEXT TO','BEFORE'))==False]"
      ]
    },
    {
      "cell_type": "markdown",
      "metadata": {
        "id": "Z_kHhoYzlpcW"
      },
      "source": [
        "Identifying household customers using keywords"
      ]
    },
    {
      "cell_type": "code",
      "execution_count": null,
      "metadata": {
        "id": "RWNveHiblpcW"
      },
      "outputs": [],
      "source": [
        "df_house=df[df['current'].str.contains('SOC|SOCIETY|COLONY|TOWER|BUNGLOW')]"
      ]
    },
    {
      "cell_type": "markdown",
      "metadata": {
        "id": "CPjAiY1tlpcW"
      },
      "source": [
        "Identifying business customers using keywords"
      ]
    },
    {
      "cell_type": "code",
      "execution_count": null,
      "metadata": {
        "id": "pdw4vGHBlpcW"
      },
      "outputs": [],
      "source": [
        "df_business=df[df['current'].str.contains('private limited|ltd.|shop|school|college|tower|company|shop|office|business|market|clinic|bank|station|stn|policestation|corporation|municipality|institute|store|factory|hotel|restaurant|retail|merchant|sons|cooperative|industrial|mill|dairy',case=False)==True]\n",
        "\n",
        "#Removing the posibility of company being a landmark\n",
        "df_business=df_business[df_business['current'].str.contains('near|nr|nr.|beside|b/h|behind|opp|opp.|opposite|next to|before',case=False)==False]"
      ]
    },
    {
      "cell_type": "markdown",
      "metadata": {
        "id": "wkjsGDKYlpcW"
      },
      "source": [
        "Generating heatmaps for household and business customers"
      ]
    },
    {
      "cell_type": "code",
      "execution_count": null,
      "metadata": {
        "id": "Ub0WZwnPlpcW"
      },
      "outputs": [],
      "source": [
        "#For household customers\n",
        "locations = df_house[['latitude_c', 'longitude_c']].dropna()\n",
        "fig = gmaps.figure() \n",
        "heatmap_layer = gmaps.heatmap_layer(locations)\n",
        "\n",
        "fig.add_layer(gmaps.heatmap_layer(locations)) \n",
        "fig "
      ]
    },
    {
      "cell_type": "code",
      "execution_count": null,
      "metadata": {
        "id": "nCy91_PnlpcW"
      },
      "outputs": [],
      "source": [
        "#For business customers\n",
        "locations = df_business[['latitude_c', 'longitude_c']].dropna()\n",
        "fig = gmaps.figure() \n",
        "heatmap_layer = gmaps.heatmap_layer(locations)\n",
        "\n",
        "fig.add_layer(gmaps.heatmap_layer(locations)) \n",
        "fig "
      ]
    }
  ],
  "metadata": {
    "kernelspec": {
      "display_name": "Python 3",
      "language": "python",
      "name": "python3"
    },
    "language_info": {
      "codemirror_mode": {
        "name": "ipython",
        "version": 3
      },
      "file_extension": ".py",
      "mimetype": "text/x-python",
      "name": "python",
      "nbconvert_exporter": "python",
      "pygments_lexer": "ipython3",
      "version": "3.7.0"
    },
    "colab": {
      "provenance": [],
      "include_colab_link": true
    }
  },
  "nbformat": 4,
  "nbformat_minor": 0
}